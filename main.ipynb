{
 "cells": [
  {
   "cell_type": "code",
   "execution_count": null,
   "id": "1f63fc13",
   "metadata": {},
   "outputs": [],
   "source": [
    "class personne : \n",
    "    def __init__ (self, nom, prenom, age):\n",
    "        self.nom = nom \n",
    "        self.prenom = prenom\n",
    "        self.age = age\n",
    "\n",
    "    def presentation(self):\n",
    "        print(\"Bonjour, je m'appelle\", self.prenom, self.nom, \"et j'ai\", self.age, \"ans.\")\n",
    "\n",
    "class professeur(personne):\n",
    "    def __init__ (self, nom, prenom, age, filiere):\n",
    "        super().__init__(nom, prenom, age)\n",
    "        self.filiere = filiere\n",
    "\n",
    "    def presentation(self):\n",
    "        super().presentation()\n",
    "        print(\"Je suis professeur de\", self.filiere, \".\")\n",
    "\n",
    "\n"
   ]
  }
 ],
 "metadata": {
  "language_info": {
   "name": "python"
  }
 },
 "nbformat": 4,
 "nbformat_minor": 5
}
