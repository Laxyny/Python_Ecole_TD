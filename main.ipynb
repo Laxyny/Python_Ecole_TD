{
 "cells": [
  {
   "cell_type": "code",
   "execution_count": 2,
   "id": "1f63fc13",
   "metadata": {},
   "outputs": [],
   "source": [
    "class Personne: \n",
    "    def __init__ (self, nom, prenom, age):\n",
    "        self.nom = nom \n",
    "        self.prenom = prenom\n",
    "        self.age = age\n",
    "\n",
    "    def presentation(self):\n",
    "        print(\"Bonjour, je m'appelle\", self.prenom, self.nom, \"et j'ai\", self.age, \"ans.\")"
   ]
  },
  {
   "cell_type": "code",
   "execution_count": null,
   "id": "006b0471",
   "metadata": {},
   "outputs": [],
   "source": [
    "class Etudiant(Personne):\n",
    "    def __init__(self, nom, prenom, age, filiere, presence):\n",
    "        super().__init__(nom, prenom, age)\n",
    "        self.filiere = filiere\n",
    "        self.presence = presence\n",
    "        \n",
    "    def afficher_informations(self):\n",
    "        print(f\"{self.prenom} {self.nom} {self.age} ans, Filière: {self.filiere}, Présence: {'Oui' if self.presence else 'Non'}\")"
   ]
  },
  {
   "cell_type": "code",
   "execution_count": null,
   "id": "6b051d5b",
   "metadata": {},
   "outputs": [],
   "source": [
    "class Professeur(Personne):\n",
    "    def __init__ (self, nom, prenom, age, filiere):\n",
    "        super().__init__(nom, prenom, age)\n",
    "        self.filiere = filiere\n",
    "\n",
    "    def presentation(self):\n",
    "        super().presentation()\n",
    "        print(\"Je suis professeur de\", self.filiere, \".\")"
   ]
  },
  {
   "cell_type": "code",
   "execution_count": null,
   "id": "d81a3d9e",
   "metadata": {},
   "outputs": [],
   "source": []
  }
 ],
 "metadata": {
  "kernelspec": {
   "display_name": "Python 3",
   "language": "python",
   "name": "python3"
  },
  "language_info": {
   "codemirror_mode": {
    "name": "ipython",
    "version": 3
   },
   "file_extension": ".py",
   "mimetype": "text/x-python",
   "name": "python",
   "nbconvert_exporter": "python",
   "pygments_lexer": "ipython3",
   "version": "3.13.7"
  }
 },
 "nbformat": 4,
 "nbformat_minor": 5
}
