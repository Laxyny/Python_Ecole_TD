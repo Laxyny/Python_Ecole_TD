{
 "cells": [
  {
   "cell_type": "code",
   "execution_count": 11,
   "id": "1f63fc13",
   "metadata": {},
   "outputs": [],
   "source": [
    "class Eleve:\n",
    "    def __init__(self, nom, prenom, age, classe):\n",
    "        self.nom = nom\n",
    "        self.prenom = prenom\n",
    "        self.age = age\n",
    "        self.classe = classe\n",
    "\n",
    "    def __str__(self):\n",
    "        return f\"{self.prenom} {self.nom}, {self.age} ans, Classe : {self.classe}\""
   ]
  },
  {
   "cell_type": "code",
   "execution_count": 12,
   "id": "006b0471",
   "metadata": {},
   "outputs": [],
   "source": [
    "class Ecole(Eleve):\n",
    "    def __init__(\n",
    "        self, nom_ecole, specialites, eleves=None, nom=\"\", prenom=\"\", age=0, classe=\"\"\n",
    "    ):\n",
    "        super().__init__(nom, prenom, age, classe)\n",
    "        self.nom_ecole = nom_ecole\n",
    "        self.specialites = specialites\n",
    "        self.eleves = []\n",
    "\n",
    "    def inscrire_eleve(self, eleve):\n",
    "        self.eleves.append(eleve)\n",
    "        print(f\"{eleve.prenom} {eleve.nom} a été inscrit avec succès chez {self.nom_ecole}.\")\n",
    "\n",
    "    def afficher_eleves(self):\n",
    "        if self.eleves is None:\n",
    "            print(\" Aucun élève inscrit pour le moment.\")\n",
    "        else:\n",
    "            print(f\"\\n Liste des élèves inscrits à {self.nom_ecole} :\")\n",
    "            for i, eleve in enumerate(self.eleves, 1):\n",
    "                print(f\"{i}. {eleve}\")"
   ]
  },
  {
   "cell_type": "code",
   "execution_count": 13,
   "id": "6b051d5b",
   "metadata": {},
   "outputs": [],
   "source": [
    "ecole_keyce = Ecole(\n",
    "    nom_ecole=\"Keyce Informatique\",\n",
    "    specialites=[\"Informatique\"],\n",
    ")"
   ]
  },
  {
   "cell_type": "code",
   "execution_count": 14,
   "id": "d81a3d9e",
   "metadata": {},
   "outputs": [
    {
     "name": "stdout",
     "output_type": "stream",
     "text": [
      "Nom: Keyce Informatique\n",
      "Spécialités: ['Informatique'] \n",
      "\n",
      "\n"
     ]
    }
   ],
   "source": [
    "print(f\"Nom: {ecole_keyce.nom_ecole}\")\n",
    "print(f\"Spécialités: {ecole_keyce.specialites} \\n\\n\")"
   ]
  },
  {
   "cell_type": "code",
   "execution_count": 15,
   "id": "84f4eca5",
   "metadata": {},
   "outputs": [],
   "source": [
    "eleve1 = Eleve(nom=\"GREGOIRE\", prenom=\"Kevin\", age=20, classe=\"Master 1\")\n",
    "eleve2 = Eleve(nom=\"KODJO\", prenom=\"Winner\", age=20, classe=\"Master 1\")\n",
    "eleve3 = Eleve(nom=\"PLEBANI\", prenom=\"Lucas\", age=20, classe=\"Master 1\")"
   ]
  },
  {
   "cell_type": "code",
   "execution_count": 16,
   "id": "4bbc0ccb",
   "metadata": {},
   "outputs": [
    {
     "name": "stdout",
     "output_type": "stream",
     "text": [
      "\n",
      " Liste des élèves inscrits à Keyce Informatique :\n"
     ]
    }
   ],
   "source": [
    "ecole_keyce.afficher_eleves()"
   ]
  },
  {
   "cell_type": "code",
   "execution_count": 17,
   "id": "4008f85d",
   "metadata": {},
   "outputs": [
    {
     "name": "stdout",
     "output_type": "stream",
     "text": [
      "Kevin GREGOIRE a été inscrit avec succès chez Keyce Informatique.\n",
      "Winner KODJO a été inscrit avec succès chez Keyce Informatique.\n",
      "Lucas PLEBANI a été inscrit avec succès chez Keyce Informatique.\n"
     ]
    }
   ],
   "source": [
    "ecole_keyce.inscrire_eleve(eleve1)\n",
    "ecole_keyce.inscrire_eleve(eleve2)\n",
    "ecole_keyce.inscrire_eleve(eleve3)"
   ]
  },
  {
   "cell_type": "code",
   "execution_count": null,
   "id": "9c4fa3ca",
   "metadata": {},
   "outputs": [
    {
     "name": "stdout",
     "output_type": "stream",
     "text": [
      "\n",
      " Liste des élèves inscrits à Keyce Informatique :\n",
      "1. Kevin GREGOIRE, 20 ans, Classe : Master 1\n",
      "2. Winner KODJO, 20 ans, Classe : Master 1\n",
      "3. Lucas PLEBANI, 20 ans, Classe : Master 1\n"
     ]
    }
   ],
   "source": [
    "ecole_keyce.afficher_eleves()"
   ]
  }
 ],
 "metadata": {
  "kernelspec": {
   "display_name": "Python 3",
   "language": "python",
   "name": "python3"
  },
  "language_info": {
   "codemirror_mode": {
    "name": "ipython",
    "version": 3
   },
   "file_extension": ".py",
   "mimetype": "text/x-python",
   "name": "python",
   "nbconvert_exporter": "python",
   "pygments_lexer": "ipython3",
   "version": "3.13.7"
  }
 },
 "nbformat": 4,
 "nbformat_minor": 5
}
