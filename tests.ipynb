{
 "cells": [
  {
   "cell_type": "code",
   "execution_count": 1,
   "id": "f5d18572",
   "metadata": {},
   "outputs": [
    {
     "name": "stdout",
     "output_type": "stream",
     "text": [
      "Nom: Keyce Informatique\n",
      "Spécialités: ['Informatique'] \n",
      "\n",
      "\n",
      "\n",
      " Liste des élèves inscrits à Keyce Informatique :\n",
      "Kevin GREGOIRE a été inscrit avec succès chez Keyce Informatique.\n",
      "Winner KODJO a été inscrit avec succès chez Keyce Informatique.\n",
      "Lucas PLEBANI a été inscrit avec succès chez Keyce Informatique.\n",
      "\n",
      " Liste des élèves inscrits à Keyce Informatique :\n",
      "1. Kevin GREGOIRE, 20 ans, Classe : Master 1\n",
      "2. Winner KODJO, 20 ans, Classe : Master 1\n",
      "3. Lucas PLEBANI, 20 ans, Classe : Master 1\n"
     ]
    }
   ],
   "source": [
    "import pytest\n",
    "from app import Eleve, Ecole"
   ]
  },
  {
   "cell_type": "code",
   "execution_count": 2,
   "id": "edb94bd8",
   "metadata": {},
   "outputs": [],
   "source": [
    "def test_initialisation_eleve():\n",
    "    eleve = Eleve(nom=\"GREGOIRE\", prenom=\"Kevin\", age=20, classe=\"Master 1\")\n",
    "\n",
    "    assert eleve.nom == \"GREGOIRE\"\n",
    "    assert eleve.prenom == \"Kevin\"\n",
    "    assert eleve.age == 20\n",
    "    assert eleve.classe == \"Master 1\""
   ]
  },
  {
   "cell_type": "code",
   "execution_count": 3,
   "id": "cc08e6e0",
   "metadata": {},
   "outputs": [],
   "source": [
    "def test_heritage_eleve():\n",
    "    ecole = Ecole(\n",
    "        nom_ecole=\"Keyce Informatique\",\n",
    "        specialites=[\"Informatique\"],\n",
    "    )\n",
    "\n",
    "    assert ecole.nom_ecole == \"Keyce Academy\"\n",
    "    assert ecole.specialites == [\"Marketing\"]\n",
    "    assert ecole.eleves == []"
   ]
  },
  {
   "cell_type": "code",
   "execution_count": null,
   "id": "76dfce4a",
   "metadata": {},
   "outputs": [],
   "source": [
    "# python -m pytest tests.py"
   ]
  }
 ],
 "metadata": {
  "kernelspec": {
   "display_name": "Python 3",
   "language": "python",
   "name": "python3"
  },
  "language_info": {
   "codemirror_mode": {
    "name": "ipython",
    "version": 3
   },
   "file_extension": ".py",
   "mimetype": "text/x-python",
   "name": "python",
   "nbconvert_exporter": "python",
   "pygments_lexer": "ipython3",
   "version": "3.13.7"
  }
 },
 "nbformat": 4,
 "nbformat_minor": 5
}
